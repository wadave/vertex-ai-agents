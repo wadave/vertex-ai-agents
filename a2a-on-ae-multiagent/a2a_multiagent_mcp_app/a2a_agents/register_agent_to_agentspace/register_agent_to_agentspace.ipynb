{
  "cells": [
    {
      "cell_type": "markdown",
      "metadata": {
        "id": "PHXpR9t7ws0u"
      },
      "source": [
        "# Register Agent to Agentspace"
      ]
    },
    {
      "cell_type": "markdown",
      "metadata": {},
      "source": [
        "@wangdave"
      ]
    },
    {
      "cell_type": "markdown",
      "metadata": {
        "id": "x428L70wwbbi"
      },
      "source": [
        "### Prerequisites\n",
        "\n",
        "- You have an Agentspace application deployed\n",
        "- You have Agent Engines deployed\n",
        "- Create a .env file (see below)\n",
        "- You create OAuth 2.0 client with proper scopes and redirect URL:\n",
        "https://vertexaisearch.cloud.google.com/oauth-redirect\n",
        "\n",
        "Example below is based on [Google's OAuth 2.0 client](https://support.google.com/googleapi/answer/6158849):\n",
        "  - From the GCP console, search for \"OAuth consent screen\"\n",
        "  - Create an OAuth 2.0 client for Web application\n",
        "  - Add the redirect URL specified above\n",
        "  - Click **Create**\n",
        "  - Download the `client_secret.json` and upload it here\n",
        "\n",
        "For other 3rd party OAuth clients, follow their documentation to obtain authorization information.\n"
      ]
    },
    {
      "cell_type": "markdown",
      "metadata": {},
      "source": [
        "### 0. Create .env if you don't have one\n",
        "Fill in the following values in the `.env` file:"
      ]
    },
    {
      "cell_type": "code",
      "execution_count": null,
      "metadata": {},
      "outputs": [],
      "source": [
        "from dotenv import load_dotenv\n",
        "import IPython\n",
        "import google_auth_oauthlib.flow\n",
        "import json\n",
        "import os\n",
        "import vertexai\n"
      ]
    },
    {
      "cell_type": "code",
      "execution_count": null,
      "metadata": {},
      "outputs": [],
      "source": [
        "%%writefile .env\n",
        "\n",
        "\n",
        "# Your Google Cloud project ID.\n",
        "PROJECT_ID=\"\"\n",
        "\n",
        "# Your Google Cloud project number.\n",
        "PROJECT_NUMBER=\"\"\n",
        "\n",
        "# The location of your AgentSpace engine (e.g., \"global\", \"us-central1\").\n",
        "LOCATION=\"global\"\n",
        "\n",
        "# The GCS bucket to use for storing logs and other data.\n",
        "GCS_BUCKET=\"gs://\"\n",
        "\n",
        "# The full resource name of your AgentSpace engine.\n",
        "AS_APP=\"enterprise-search-\"\n",
        "\n",
        "# Auth ID for your AgentSpace engine.\n",
        "AUTH_ID=\"my-oauth\"\n",
        "\n",
        "# The full resource name of your Reasoning Engine.\n",
        "REASONING_ENGINE = \"\"\n",
        "\n",
        "# The display name for your agent in AgentSpace.\n",
        "DISPLAY_NAME=\"A2A Agent Demo\"\n",
        "\n",
        "# A brief description (subtitle) of your agent.\n",
        "DESCRIPTION=\"Multi-agent using A2A, ADK, Agent Engine and remote MCP server\"\n",
        "\n",
        "# The tool description that defines the agent's capabilities and behavior.\n",
        "TOOL_DESCRIPTION=\"***REMEMBER ALWAYS USE THIS TOOL TO ANSWER EVERY QUESTION***. You're an export of weather and cocktail, answer questions regarding weather and cocktail information. You can answer questions like: 1) What is the weather in SF, CA today? 2) List a random cocktail. 3) What is the ID of margarita? 3) What're the ingredients for a Mojito? \"\"\"\n",
        "\n",
        "# The unique identifier for your agent.\n",
        "AGENT_ID=\"a2a-agent-engine-host\""
      ]
    },
    {
      "cell_type": "markdown",
      "metadata": {
        "id": "aQIhTY4Oq4sA"
      },
      "source": [
        "### Install required libraries"
      ]
    },
    {
      "cell_type": "code",
      "execution_count": null,
      "metadata": {
        "colab": {
          "base_uri": "https://localhost:8080/"
        },
        "id": "5QhSlxfXF5Q7",
        "outputId": "19a09603-7900-4ca6-dd55-5f2e22356293"
      },
      "outputs": [],
      "source": [
        "!pip3 install -qq -U google-adk \"google-cloud-aiplatform[agent_engines]\" google-cloud-discoveryengine google-auth-oauthlib"
      ]
    },
    {
      "cell_type": "markdown",
      "metadata": {
        "id": "yiaVMFfSm2H3"
      },
      "source": [
        "### Restart Kernel"
      ]
    },
    {
      "cell_type": "code",
      "execution_count": null,
      "metadata": {
        "colab": {
          "base_uri": "https://localhost:8080/"
        },
        "id": "NOkH3GmbsRLZ",
        "outputId": "ecad5b06-bf15-4c03-b4a0-24aae1888981"
      },
      "outputs": [],
      "source": [
        "\n",
        "app = IPython.Application.instance()\n",
        "app.kernel.do_shutdown(True)"
      ]
    },
    {
      "cell_type": "markdown",
      "metadata": {
        "id": "lz5Yy_jXH-Ur"
      },
      "source": [
        "## 1. Load Environment Variables and Initialize Vertex AI\n"
      ]
    },
    {
      "cell_type": "code",
      "execution_count": null,
      "metadata": {
        "id": "r4G3iNZWsjnf"
      },
      "outputs": [],
      "source": [
        "  # take environment variables from .env.\n",
        "load_dotenv()\n",
        "PROJECT_ID = os.getenv(\"PROJECT_ID\")\n",
        "LOCATION = os.getenv(\"LOCATION\", \"us-central1\")\n",
        "GCS_BUCKET = os.getenv(\"GCS_BUCKET\")\n",
        "PROJECT_NUMBER = os.getenv(\"PROJECT_NUMBER\")\n",
        "REASONING_ENGINE = os.getenv(\"REASONING_ENGINE\")\n",
        "AS_APP = os.getenv(\"AS_APP\")\n",
        "AUTH_ID = os.getenv(\"AUTH_ID\")\n",
        "\n",
        "os.environ[\"GOOGLE_GENAI_USE_VERTEXAI\"] = \"1\"\n",
        "os.environ[\"GOOGLE_CLOUD_PROJECT\"] = PROJECT_ID\n",
        "# os.environ[\"GOOGLE_CLOUD_LOCATION\"] = LOCATION"
      ]
    },
    {
      "cell_type": "code",
      "execution_count": null,
      "metadata": {
        "id": "uBxszkuaxUIh"
      },
      "outputs": [],
      "source": [
        "vertexai.init(\n",
        "    project=PROJECT_ID,\n",
        "    location=LOCATION,\n",
        "    staging_bucket=GCS_BUCKET,\n",
        ")"
      ]
    },
    {
      "cell_type": "code",
      "execution_count": null,
      "metadata": {},
      "outputs": [],
      "source": [
        "# your agent engine resource name\n",
        "REASONING_ENGINE"
      ]
    },
    {
      "cell_type": "markdown",
      "metadata": {},
      "source": [
        "## 2. Generate OAuth 2.0 Authorization URL"
      ]
    },
    {
      "cell_type": "code",
      "execution_count": null,
      "metadata": {
        "colab": {
          "base_uri": "https://localhost:8080/"
        },
        "id": "eoqkRIj9lhy3",
        "outputId": "fa0768d2-1fab-42c0-ed56-555ad6f05f9f"
      },
      "outputs": [],
      "source": [
        "# Required, call the from_client_secrets_file method to retrieve the client ID from a\n",
        "# client_secret.json file. The client ID (from that file) and access scopes are required. (You can\n",
        "# also use the from_client_config method, which passes the client configuration as it originally\n",
        "# appeared in a client secrets file but doesn't access the file itself.)\n",
        "flow = google_auth_oauthlib.flow.Flow.from_client_secrets_file('client_secret.json',\n",
        "    scopes=['https://www.googleapis.com/auth/drive.metadata.readonly',\n",
        "            'https://www.googleapis.com/auth/calendar.readonly',\n",
        "            'https://www.googleapis.com/auth/bigquery'])\n",
        "\n",
        "# Required, indicate where the API server will redirect the user after the user completes\n",
        "# the authorization flow. The redirect URI is required. The value must exactly\n",
        "# match one of the authorized redirect URIs for the OAuth 2.0 client, which you\n",
        "# configured in the API Console. If this value doesn't match an authorized URI,\n",
        "# you will get a 'redirect_uri_mismatch' error.\n",
        "flow.redirect_uri = 'https://vertexaisearch.cloud.google.com/oauth-redirect'\n",
        "\n",
        "# Generate URL for request to Google's OAuth 2.0 server.\n",
        "# Use kwargs to set optional request parameters.\n",
        "authorization_url, state = flow.authorization_url(\n",
        "    # Recommended, enable offline access so that you can refresh an access token without\n",
        "    # re-prompting the user for permission. Recommended for web server apps.\n",
        "    access_type='offline',\n",
        "    # Optional, enable incremental authorization. Recommended as a best practice.\n",
        "    include_granted_scopes='true',\n",
        "    # Optional, if your application knows which user is trying to authenticate, it can use this\n",
        "    # parameter to provide a hint to the Google Authentication Server.\n",
        "    login_hint='hint@example.com',\n",
        "    # Optional, set prompt to 'consent' will prompt the user for consent\n",
        "    prompt='consent')\n",
        "print('OAUTH_AUTH_URI:')\n",
        "print(authorization_url)"
      ]
    },
    {
      "cell_type": "code",
      "execution_count": null,
      "metadata": {},
      "outputs": [],
      "source": [
        "authorization_url"
      ]
    },
    {
      "cell_type": "code",
      "execution_count": null,
      "metadata": {},
      "outputs": [],
      "source": [
        "os.environ[\"OAUTH_AUTH_URI\"] = authorization_url"
      ]
    },
    {
      "cell_type": "markdown",
      "metadata": {
        "id": "TH1FuAc0mFyU"
      },
      "source": [
        "\n",
        "## 3. Get OAuth 2.0 Client ID and Secret\n",
        "- Get `OAUTH_CLIENT_ID` and `OAUTH_CLIENT_SECRET` from the OAuth client setup in the client_secret.json file\n",
        "- Ensure that `OAUTH_TOKEN_URI` is what your service requires. Example used here is for Google APIs."
      ]
    },
    {
      "cell_type": "code",
      "execution_count": null,
      "metadata": {},
      "outputs": [],
      "source": [
        "\n",
        "def read_json_file(filepath):\n",
        "    \"\"\"\n",
        "    Reads a JSON file from the specified filepath and returns its content.\n",
        "\n",
        "    Args:\n",
        "        filepath (str): The path to the JSON file.\n",
        "\n",
        "    Returns:\n",
        "        dict or list: The parsed JSON data, or None if an error occurs.\n",
        "    \"\"\"\n",
        "    try:\n",
        "        # Open the file in read mode ('r')\n",
        "        with open(filepath, 'r') as file:\n",
        "            # Load the JSON content from the file\n",
        "            data = json.load(file)\n",
        "            return data\n",
        "    except FileNotFoundError:\n",
        "        print(f\"Error: The file at '{filepath}' was not found.\")\n",
        "        return None\n",
        "    except json.JSONDecodeError:\n",
        "        print(f\"Error: The file at '{filepath}' is not a valid JSON file.\")\n",
        "        return None\n",
        "    except Exception as e:\n",
        "        print(f\"An unexpected error occurred: {e}\")\n",
        "        return None"
      ]
    },
    {
      "cell_type": "markdown",
      "metadata": {},
      "source": [
        "Note: make sure your `client_secret.json` file is in the same directory as this notebook, and has the following schema, at least has client_id and client_secret:\n",
        "```json\n",
        "{\n",
        "  \"web\": {\n",
        "    \"client_id\": \"String\",\n",
        "    \"project_id\": \"String\",\n",
        "    \"auth_uri\": \"String (URL)\",\n",
        "    \"token_uri\": \"String (URL)\",\n",
        "    \"auth_provider_x509_cert_url\": \"String (URL)\",\n",
        "    \"client_secret\": \"String\",\n",
        "    \"redirect_uris\": \"Array<String (URL)>\"\n",
        "  }\n",
        "}\n",
        "``` \n",
        "\n",
        "If you don't have a valid `client_secret.json` file, you can manually input the client ID and client secret.  \n",
        "\n",
        "client_id = \"\"  \n",
        "client_secret = \"\""
      ]
    },
    {
      "cell_type": "code",
      "execution_count": null,
      "metadata": {},
      "outputs": [],
      "source": [
        "# Read the client_secret.json file. If the file is not found or invalid, it will print an error message.\n",
        "# You can manually input the client ID and client secret if needed.\n",
        "client_secrets = read_json_file('client_secret.json')"
      ]
    },
    {
      "cell_type": "code",
      "execution_count": null,
      "metadata": {},
      "outputs": [],
      "source": [
        "client_id = client_secrets[\"web\"].get(\"client_id\")\n",
        "client_secret = client_secrets[\"web\"].get(\"client_secret\")"
      ]
    },
    {
      "cell_type": "code",
      "execution_count": null,
      "metadata": {},
      "outputs": [],
      "source": [
        "os.environ[\"OAUTH_CLIENT_ID\"] = client_id\n",
        "os.environ[\"OAUTH_CLIENT_SECRET\"] = client_secret\n",
        "os.environ[\"OAUTH_TOKEN_URI\"] = \"https://oauth2.googleapis.com/token\""
      ]
    },
    {
      "cell_type": "code",
      "execution_count": null,
      "metadata": {
        "colab": {
          "base_uri": "https://localhost:8080/"
        },
        "id": "OgiHUwX610-K",
        "outputId": "b35c64e0-9509-43ed-d39a-51f6a483c85c"
      },
      "outputs": [],
      "source": [
        "%%bash\n",
        "\n",
        "curl -X POST \\\n",
        "  -H \"Authorization: Bearer $(gcloud auth print-access-token)\" \\\n",
        "  -H \"Content-Type: application/json\" \\\n",
        "  -H \"X-Goog-User-Project: ${PROJECT_NUMBER}\" \\\n",
        "https://discoveryengine.googleapis.com/v1alpha/projects/${PROJECT_NUMBER}/locations/global/authorizations?authorizationId=${AUTH_ID} \\\n",
        "  -d '{\n",
        "  \"name\": \"projects/${PROJECT_NUMBER}/locations/global/authorizations/${AUTH_ID}\",\n",
        "  \"serverSideOauth2\": {\n",
        "      \"clientId\": \"'\"${OAUTH_CLIENT_ID}\"'\",\n",
        "      \"clientSecret\": \"'\"${OAUTH_CLIENT_SECRET}\"'\",\n",
        "      \"authorizationUri\": \"'\"${OAUTH_AUTH_URI}\"'\",\n",
        "      \"tokenUri\": \"'\"${OAUTH_TOKEN_URI}\"'\"\n",
        "    }\n",
        "  }'"
      ]
    },
    {
      "cell_type": "markdown",
      "metadata": {
        "id": "0kVuqBnZtnKm"
      },
      "source": [
        "## 4. Link Agent to Agentspace"
      ]
    },
    {
      "cell_type": "code",
      "execution_count": null,
      "metadata": {
        "colab": {
          "base_uri": "https://localhost:8080/"
        },
        "id": "TbMxxXI6q8j5",
        "outputId": "5f8d1f54-0c92-4be7-dc96-63b12152ceac"
      },
      "outputs": [],
      "source": [
        "%%bash\n",
        "\n",
        "curl -X POST \\\n",
        "  -H \"Authorization: Bearer $(gcloud auth print-access-token)\" \\\n",
        "  -H \"Content-Type: application/json\" \\\n",
        "  -H \"X-Goog-User-Project: ${PROJECT_NUMBER}\" \\\n",
        "https://discoveryengine.googleapis.com/v1alpha/projects/${PROJECT_NUMBER}/locations/global/collections/default_collection/engines/${AS_APP}/assistants/default_assistant/agents \\\n",
        "  -d '{\n",
        "      \"displayName\": \"'\"${DISPLAY_NAME}\"'\",\n",
        "      \"description\": \"'\"${DESCRIPTION}\"'\",\n",
        "      \"adk_agent_definition\": {\n",
        "        \"tool_settings\": {\n",
        "          \"tool_description\": \"'\"${TOOL_DESCRIPTION}\"'\"\n",
        "        },\n",
        "        \"provisioned_reasoning_engine\": {\n",
        "          \"reasoning_engine\":\n",
        "            \"'\"${REASONING_ENGINE}\"'\"\n",
        "        },\n",
        "        \"authorizations\": [\n",
        "          \"projects/'\"${PROJECT_NUMBER}\"'/locations/global/authorizations/'\"${AUTH_ID}\"'\"\n",
        "        ]\n",
        "      }\n",
        "  }'"
      ]
    },
    {
      "cell_type": "markdown",
      "metadata": {
        "id": "4HE5huJhyVuA"
      },
      "source": [
        "## 5. Try your agent in Agentspace UI\n",
        "1. Ensure that `Vertex AI API` and `Discovery Engine API` are enabled in your project and that Discovery Engine service account has `Vertex AI User` permission. If you cannot find it in IAM, check the `Include Google-provided role grants`.\n",
        "2. Open up the Agentspace app in Google Cloud console\n",
        "3. Select your Agentspace app\n",
        "3. Click `Copy URL`\n",
        "4. Open the URL in a new tab\n",
        "5. From left menu, select your agent from `Agents` deployed"
      ]
    },
    {
      "cell_type": "markdown",
      "metadata": {},
      "source": [
        "## 6. List agents (Optional)"
      ]
    },
    {
      "cell_type": "code",
      "execution_count": null,
      "metadata": {},
      "outputs": [],
      "source": [
        "%%bash\n",
        "# export PROJECT_NUMBER=PROJECT_NUMBER\n",
        "# export AS_APP=AGENTSAPCE_APP_ID\n",
        "curl -X GET -H \"Authorization: Bearer $(gcloud auth print-access-token)\" \\\n",
        "-H \"Content-Type: application/json\" \\\n",
        "-H \"X-Goog-User-Project: ${PROJECT_NUMBER}\" \\\n",
        "\"https://discoveryengine.googleapis.com/v1alpha/projects/${PROJECT_NUMBER}/locations/global/collections/default_collection/engines/${AS_APP}/assistants/default_assistant/agents\""
      ]
    },
    {
      "cell_type": "markdown",
      "metadata": {},
      "source": [
        "## 7. Delete an agent (when you don't need it anymore )"
      ]
    },
    {
      "cell_type": "code",
      "execution_count": null,
      "metadata": {},
      "outputs": [],
      "source": [
        "os.environ[\"AGENT_RESOURCE_NAME\"] = \"your agent resource name printed above\""
      ]
    },
    {
      "cell_type": "code",
      "execution_count": null,
      "metadata": {},
      "outputs": [],
      "source": [
        "%%bash\n",
        "# export PROJECT_NUMBER=PROJECT_NUMBER\n",
        "# export AGENT_RESOURCE_NAME=AGENT_RESOURCE_NAME\n",
        "\n",
        "curl -X DELETE \\\n",
        "  -H \"Authorization: Bearer $(gcloud auth print-access-token)\" \\\n",
        "  -H \"Content-Type: application/json\" \\\n",
        "  -H \"X-Goog-User-Project: ${PROJECT_NUMBER}\" \\\n",
        "https://discoveryengine.googleapis.com/v1alpha/${AGENT_RESOURCE_NAME}"
      ]
    },
    {
      "cell_type": "code",
      "execution_count": null,
      "metadata": {},
      "outputs": [],
      "source": []
    }
  ],
  "metadata": {
    "colab": {
      "provenance": []
    },
    "kernelspec": {
      "display_name": ".venv",
      "language": "python",
      "name": "python3"
    },
    "language_info": {
      "codemirror_mode": {
        "name": "ipython",
        "version": 3
      },
      "file_extension": ".py",
      "mimetype": "text/x-python",
      "name": "python",
      "nbconvert_exporter": "python",
      "pygments_lexer": "ipython3",
      "version": "3.13.2"
    }
  },
  "nbformat": 4,
  "nbformat_minor": 0
}
