{
  "cells": [
    {
      "cell_type": "code",
      "execution_count": null,
      "metadata": {
        "id": "ur8xi4C7S06n"
      },
      "outputs": [],
      "source": [
        "# Copyright 2025 Google LLC\n",
        "#\n",
        "# Licensed under the Apache License, Version 2.0 (the \"License\");\n",
        "# you may not use this file except in compliance with the License.\n",
        "# You may obtain a copy of the License at\n",
        "#\n",
        "#     https://www.apache.org/licenses/LICENSE-2.0\n",
        "#\n",
        "# Unless required by applicable law or agreed to in writing, software\n",
        "# distributed under the License is distributed on an \"AS IS\" BASIS,\n",
        "# WITHOUT WARRANTIES OR CONDITIONS OF ANY KIND, either express or implied.\n",
        "# See the License for the specific language governing permissions and\n",
        "# limitations under the License."
      ]
    },
    {
      "cell_type": "markdown",
      "metadata": {
        "id": "61RBz8LLbxCR"
      },
      "source": [
        "## Get started"
      ]
    },
    {
      "cell_type": "markdown",
      "metadata": {
        "id": "No17Cw5hgx12"
      },
      "source": [
        "### Install required packages\n",
        "\n",
        "First, we'll install the necessary packages.\n"
      ]
    },
    {
      "cell_type": "code",
      "execution_count": null,
      "metadata": {
        "id": "tFy3H3aPgx12"
      },
      "outputs": [],
      "source": [
        "%pip install --upgrade --quiet \"a2a-sdk>=0.3.4\" --force-reinstall --quiet\n",
        "%pip install --upgrade --quiet \"google-cloud-aiplatform[agent_engines, adk]>=1.112.0\" --force-reinstall --quiet "
      ]
    },
    {
      "cell_type": "markdown",
      "metadata": {
        "id": "dmWOrTJ3gx13"
      },
      "source": [
        "### Authenticate your notebook environment (Colab only)\n",
        "\n",
        "If you're running this notebook on Google Colab, run the cell below to authenticate your environment."
      ]
    },
    {
      "cell_type": "code",
      "execution_count": null,
      "metadata": {
        "id": "NyKGtVQjgx13"
      },
      "outputs": [],
      "source": [
        "# import sys\n",
        "# \n",
        "# if \"google.colab\" in sys.modules:\n",
        "#     from google.colab import auth\n",
        "# \n",
        "#     auth.authenticate_user()"
      ]
    },
    {
      "cell_type": "markdown",
      "metadata": {
        "id": "DF4l8DTdWgPY"
      },
      "source": [
        "### Set Google Cloud project information\n",
        "\n",
        "To get started using Vertex AI, you must have an existing Google Cloud project and [enable the Vertex AI API](https://console.cloud.google.com/flows/enableapi?apiid=aiplatform.googleapis.com).\n",
        "\n",
        "Learn more about [setting up a project and a development environment](https://cloud.google.com/vertex-ai/docs/start/cloud-environment)."
      ]
    },
    {
      "cell_type": "code",
      "execution_count": null,
      "metadata": {
        "id": "Nqwi-5ufWp_B"
      },
      "outputs": [],
      "source": [
        "# Use the environment variable if the user doesn't provide Project ID.\n",
        "import os\n",
        "\n",
        "import vertexai\n",
        "from google.genai import types\n",
        "\n",
        "from dotenv import load_dotenv\n",
        "load_dotenv()  # \n",
        "\n",
        "\n",
        "PROJECT_ID = os.environ.get(\"PROJECT_ID\") # @param {type: \"string\", placeholder: \"[your-project-id]\", isTemplate: true}\n",
        "if not PROJECT_ID or PROJECT_ID == \"[your-project-id]\":\n",
        "    PROJECT_ID = str(os.environ.get(\"GOOGLE_CLOUD_PROJECT\"))\n",
        "\n",
        "LOCATION = os.environ.get(\"GOOGLE_CLOUD_REGION\", \"us-central1\")\n",
        "\n",
        "BUCKET_NAME = f\"{PROJECT_ID}-bucket\"   # @param {type: \"string\", placeholder: \"[your-bucket-name]\", isTemplate: true}\n",
        "if not BUCKET_NAME or BUCKET_NAME == \"[your-bucket-name]\":\n",
        "    BUCKET_NAME = PROJECT_ID\n",
        "\n",
        "BUCKET_URI = f\"gs://{BUCKET_NAME}\"\n",
        "\n",
        "# !gsutil mb -l $LOCATION -p $PROJECT_ID $BUCKET_URI\n",
        "\n",
        "# Initialize Vertex AI session\n",
        "vertexai.init(project=PROJECT_ID, location=LOCATION, staging_bucket=BUCKET_URI)\n",
        "#genai.configure(project=PROJECT_ID)\n",
        "\n",
        "# Initialize the Gen AI client using http_options\n",
        "# The parameter customizes how the Vertex AI client communicates with Google Cloud's backend services.\n",
        "# It's used here to access new, pre-release features.\n",
        "client = vertexai.Client(\n",
        "    project=PROJECT_ID,\n",
        "    location=LOCATION,\n",
        "    http_options=types.HttpOptions(\n",
        "        api_version=\"v1beta1\", base_url=f\"https://{LOCATION}-aiplatform.googleapis.com/\"\n",
        "    ),\n",
        ")"
      ]
    },
    {
      "cell_type": "code",
      "execution_count": null,
      "metadata": {},
      "outputs": [],
      "source": [
        "PROJECT_NUMBER = os.environ.get(\"PROJECT_NUMBER\")\n",
        "print(f\"PROJECT_NUMBER: {PROJECT_NUMBER}\")"
      ]
    },
    {
      "cell_type": "markdown",
      "metadata": {
        "id": "5303c05f7aa6"
      },
      "source": [
        "### Import libraries\n",
        "\n",
        "Here, we're importing all the necessary Python classes and functions we'll use throughout the notebook."
      ]
    },
    {
      "cell_type": "code",
      "execution_count": null,
      "metadata": {
        "id": "6fc324893334"
      },
      "outputs": [],
      "source": [
        "# Helpers\n",
        "import json\n",
        "import logging\n",
        "import time\n",
        "from collections.abc import Awaitable, Callable\n",
        "from datetime import datetime\n",
        "from pprint import pprint\n",
        "from typing import Any, NoReturn\n",
        "\n",
        "import httpx\n",
        "from IPython.display import Markdown, display\n",
        "from google.auth import default\n",
        "from google.auth.transport.requests import Request as req\n",
        "from starlette.requests import Request\n",
        "\n",
        "logging.getLogger().setLevel(logging.INFO)\n",
        "\n",
        "\n",
        "# A2A\n",
        "from a2a.client import ClientConfig, ClientFactory\n",
        "from a2a.server.agent_execution import AgentExecutor, RequestContext\n",
        "from a2a.server.events import EventQueue\n",
        "from a2a.server.tasks import TaskUpdater\n",
        "from a2a.types import (\n",
        "    AgentSkill,\n",
        "    Message,\n",
        "    Part,\n",
        "    Role,\n",
        "    TaskState,\n",
        "    TaskQueryParams,\n",
        "    TextPart,\n",
        "    TransportProtocol,\n",
        "    UnsupportedOperationError,\n",
        ")\n",
        "from a2a.utils import new_agent_text_message\n",
        "from a2a.utils.errors import ServerError\n",
        "\n",
        "# ADK\n",
        "from google.adk import Runner\n",
        "from google.adk.agents import LlmAgent\n",
        "from google.adk.artifacts import InMemoryArtifactService\n",
        "from google.adk.memory.in_memory_memory_service import InMemoryMemoryService\n",
        "from google.adk.sessions import InMemorySessionService\n",
        "from google.adk.tools import google_search_tool\n",
        "from google.genai import types\n",
        "\n",
        "# Agent Engine\n",
        "from vertexai.preview.reasoning_engines import A2aAgent\n",
        "from vertexai.preview.reasoning_engines.templates.a2a import create_agent_card"
      ]
    },
    {
      "cell_type": "markdown",
      "metadata": {
        "id": "Ra6lH9ad3Vkx"
      },
      "source": [
        "### Helpers\n",
        "\n",
        "These are simple utility functions to make our lives easier, especially for local testing. They help create mock HTTP requests (`build_post_request`, `build_get_request`) and fetch authentication tokens (`get_bearer_token`)."
      ]
    },
    {
      "cell_type": "code",
      "execution_count": null,
      "metadata": {
        "id": "1zH-NZDQ5n9e"
      },
      "outputs": [],
      "source": [
        "def receive_wrapper(data: dict) -> Callable[[], Awaitable[dict]]:\n",
        "    \"\"\"Creates a mock ASGI receive callable for testing.\"\"\"\n",
        "\n",
        "    async def receive():\n",
        "        byte_data = json.dumps(data).encode(\"utf-8\")\n",
        "        return {\"type\": \"http.request\", \"body\": byte_data, \"more_body\": False}\n",
        "\n",
        "    return receive\n",
        "\n",
        "\n",
        "def build_post_request(\n",
        "    data: dict[str, Any] | None = None, path_params: dict[str, str] | None = None\n",
        ") -> Request:\n",
        "    \"\"\"Builds a mock Starlette Request object for a POST request with JSON data.\"\"\"\n",
        "    scope = {\n",
        "        \"type\": \"http\",\n",
        "        \"http_version\": \"1.1\",\n",
        "        \"headers\": [(b\"content-type\", b\"application/json\")],\n",
        "        \"app\": None,\n",
        "    }\n",
        "    if path_params:\n",
        "        scope[\"path_params\"] = path_params\n",
        "    receiver = receive_wrapper(data)\n",
        "    return Request(scope, receiver)\n",
        "\n",
        "\n",
        "def build_get_request(path_params: dict[str, str]) -> Request:\n",
        "    \"\"\"Builds a mock Starlette Request object for a GET request.\"\"\"\n",
        "    scope = {\n",
        "        \"type\": \"http\",\n",
        "        \"http_version\": \"1.1\",\n",
        "        \"query_string\": b\"\",\n",
        "        \"app\": None,\n",
        "    }\n",
        "    if path_params:\n",
        "        scope[\"path_params\"] = path_params\n",
        "\n",
        "    async def receive():\n",
        "        return {\"type\": \"http.disconnect\"}\n",
        "\n",
        "    return Request(scope, receive)\n",
        "\n",
        "\n",
        "def get_bearer_token() -> str | None:\n",
        "    \"\"\"Fetches a Google Cloud bearer token using Application Default Credentials.\"\"\"\n",
        "    try:\n",
        "        # Use an alias to avoid name collision with starlette.requests.Request\n",
        "        credentials, project = default(\n",
        "            scopes=[\"https://www.googleapis.com/auth/cloud-platform\"]\n",
        "        )\n",
        "        request = req()\n",
        "        credentials.refresh(request)\n",
        "        return credentials.token\n",
        "    except Exception as e:\n",
        "        print(f\"Error getting credentials: {e}\")\n",
        "        print(\n",
        "            \"Please ensure you have authenticated with 'gcloud auth application-default login'.\"\n",
        "        )\n",
        "    return None"
      ]
    },
    {
      "cell_type": "code",
      "execution_count": null,
      "metadata": {},
      "outputs": [],
      "source": [
        "WEA_AGENT_URL = os.environ.get(\"WEA_AGENT_URL\")\n",
        "CT_AGENT_URL = os.environ.get(\"CT_AGENT_URL\")\n",
        "print(f\"WEA_AGENT_URL: {WEA_AGENT_URL}\")\n",
        "print(f\"CT_AGENT_URL: {CT_AGENT_URL}\")  "
      ]
    },
    {
      "cell_type": "code",
      "execution_count": null,
      "metadata": {},
      "outputs": [],
      "source": []
    },
    {
      "cell_type": "markdown",
      "metadata": {},
      "source": [
        "## Test ADK root agent"
      ]
    },
    {
      "cell_type": "code",
      "execution_count": null,
      "metadata": {},
      "outputs": [],
      "source": [
        "from google.auth import default\n",
        "from google.auth.transport.requests import Request as AuthRequest\n",
        "from google.adk.agents.remote_a2a_agent import RemoteA2aAgent"
      ]
    },
    {
      "cell_type": "code",
      "execution_count": null,
      "metadata": {},
      "outputs": [],
      "source": [
        "class GoogleAuth(httpx.Auth):\n",
        "    \"\"\"A custom httpx Auth class for Google Cloud authentication.\"\"\"\n",
        "\n",
        "    def __init__(self):\n",
        "        self.credentials, self.project = default(\n",
        "            scopes=[\"https://www.googleapis.com/auth/cloud-platform\"]\n",
        "        )\n",
        "        self.auth_request = AuthRequest()\n",
        "\n",
        "    def auth_flow(self, request):\n",
        "        # Refresh the credentials if they are expired\n",
        "        if not self.credentials.valid:\n",
        "            print(\"Credentials expired, refreshing...\")\n",
        "            self.credentials.refresh(self.auth_request)\n",
        "\n",
        "        # Add the Authorization header to the request\n",
        "        request.headers[\"Authorization\"] = f\"Bearer {self.credentials.token}\"\n",
        "        yield request"
      ]
    },
    {
      "cell_type": "code",
      "execution_count": null,
      "metadata": {},
      "outputs": [],
      "source": [
        "class GoogleAuthRefresh(httpx.Auth):\n",
        "    def __init__(self, scopes):\n",
        "        self.credentials, _ = default(scopes=scopes)\n",
        "        self.transport_request = req()\n",
        "        self.credentials.refresh(self.transport_request)\n",
        "\n",
        "    def auth_flow(self, request):\n",
        "        if not self.credentials.valid:\n",
        "            self.credentials.refresh(self.transport_request)\n",
        "        \n",
        "        request.headers['Authorization'] = f'Bearer {self.credentials.token}'\n",
        "        yield request\n"
      ]
    },
    {
      "cell_type": "markdown",
      "metadata": {},
      "source": [
        "### Local testing"
      ]
    },
    {
      "cell_type": "code",
      "execution_count": null,
      "metadata": {},
      "outputs": [],
      "source": [
        "httpx_client = httpx.AsyncClient(\n",
        "                timeout=120,\n",
        "                headers={\n",
        "                'Content-Type': 'application/json',\n",
        "            },\n",
        "                #auth=GoogleAuthRefresh(scopes=['https://www.googleapis.com/auth/cloud-platform'])\n",
        "                auth=GoogleAuth(),\n",
        "            )\n",
        "#httpx_client.headers[\"Content-Type\"] = \"application/json\""
      ]
    },
    {
      "cell_type": "code",
      "execution_count": null,
      "metadata": {},
      "outputs": [],
      "source": [
        "config = ClientConfig(\n",
        "            httpx_client=httpx_client,\n",
        "            supported_transports=[\n",
        "                TransportProtocol.jsonrpc,\n",
        "                TransportProtocol.http_json,\n",
        "            ],\n",
        "        )\n",
        "client_factory = ClientFactory(config)"
      ]
    },
    {
      "cell_type": "code",
      "execution_count": null,
      "metadata": {},
      "outputs": [],
      "source": [
        "WEA_AGENT_URL = os.environ.get(\"WEA_AGENT_URL\")\n",
        "CT_AGENT_URL = os.environ.get(\"CT_AGENT_URL\")\n",
        "print(f\"WEA_AGENT_URL: {WEA_AGENT_URL}\")\n",
        "print(f\"CT_AGENT_URL: {CT_AGENT_URL}\")"
      ]
    },
    {
      "cell_type": "code",
      "execution_count": null,
      "metadata": {},
      "outputs": [],
      "source": [
        "weather_agent_remoteA2a = RemoteA2aAgent(\n",
        "    name='weather_assistant',\n",
        "    description='''\n",
        "An agent that gathers the necessary information for weather information\n",
        "    ''',\n",
        "    agent_card=f'{WEA_AGENT_URL}/v1/card',\n",
        "    a2a_client_factory=client_factory,\n",
        ")"
      ]
    },
    {
      "cell_type": "code",
      "execution_count": null,
      "metadata": {},
      "outputs": [],
      "source": [
        "cocktail_agent_remoteA2a = RemoteA2aAgent(\n",
        "    name='cocktail_assistant',\n",
        "    description='''\n",
        "An agent that gathers the necessary information for cocktail information\n",
        "    ''',\n",
        "    agent_card=f'{CT_AGENT_URL}/v1/card',\n",
        "    a2a_client_factory=client_factory,\n",
        ")"
      ]
    },
    {
      "cell_type": "code",
      "execution_count": null,
      "metadata": {},
      "outputs": [],
      "source": [
        "root_instruction =\"\"\"\n",
        "**Role:** You are a Virtual Assistant acting as a Request Router. You can help user with questions regarding cocktails, and weather.\n",
        "\n",
        "**Primary Goal:** Analyze user requests and route them to the correct specialist sub-agent.\n",
        "\n",
        "**Capabilities & Routing:**\n",
        "* **Greetings:** If the user greets you, respond warmly and directly.\n",
        "* **Cocktails:** Route requests about cocktails, drinks, recipes, or ingredients to `cocktail_assistant`.\n",
        "* **Booking & Weather:** Route requests about checking weather to `weather_assistant`.\n",
        "* **Out-of-Scope:** If the request is unrelated (e.g., general knowledge, math), state directly that you cannot assist with that topic.\n",
        "\n",
        "**Key Directives:**\n",
        "* **Delegate Immediately:** Once a suitable sub-agent is identified, route the request without asking permission.\n",
        "* **Do Not Answer Delegated Topics:** You must **not** attempt to answer questions related to cocktails, booking, or weather yourself. Always delegate.\n",
        "* **Formatting:** Format your final response to the user using Markdown for readability.\n",
        "\"\"\""
      ]
    },
    {
      "cell_type": "code",
      "execution_count": null,
      "metadata": {},
      "outputs": [],
      "source": [
        "root_agent = LlmAgent(\n",
        "            model=\"gemini-2.5-flash\",\n",
        "            name='host_agent',\n",
        "            instruction=root_instruction,\n",
        "            description=(\n",
        "                'This agent orchestrates the decomposition of the user request into'\n",
        "                ' tasks that can be performed by the child agents.'\n",
        "            ),\n",
        "            sub_agents=[\n",
        "                weather_agent_remoteA2a,\n",
        "                cocktail_agent_remoteA2a,\n",
        "            \n",
        "            ],\n",
        "        )"
      ]
    },
    {
      "cell_type": "code",
      "execution_count": null,
      "metadata": {},
      "outputs": [],
      "source": [
        "from vertexai import agent_engines\n",
        "\n",
        "# Wrap the agent in an AdkApp object\n",
        "app = agent_engines.AdkApp(\n",
        "    agent=root_agent,\n",
        "    #enable_tracing=True,\n",
        ")"
      ]
    },
    {
      "cell_type": "code",
      "execution_count": null,
      "metadata": {},
      "outputs": [],
      "source": [
        "# Create a local session to maintain conversation history\n",
        "session = await app.async_create_session(user_id=\"u_123\")\n",
        "print(session)"
      ]
    },
    {
      "cell_type": "code",
      "execution_count": null,
      "metadata": {},
      "outputs": [],
      "source": [
        "events = []\n",
        "async for event in app.async_stream_query(\n",
        "    user_id=\"u_123\",\n",
        "    session_id=session.id,\n",
        "    message=\"whats the weather in new york, ny\",\n",
        "):\n",
        "    events.append(event)\n",
        "\n",
        "# The full event stream shows the agent's thought process\n",
        "print(\"--- Full Event Stream ---\")\n",
        "for event in events:\n",
        "    print(event)\n",
        "\n",
        "# For quick tests, you can extract just the final text response\n",
        "final_text_responses = [\n",
        "    e for e in events\n",
        "    if e.get(\"content\", {}).get(\"parts\", [{}])[0].get(\"text\")\n",
        "    and not e.get(\"content\", {}).get(\"parts\", [{}])[0].get(\"function_call\")\n",
        "]\n",
        "if final_text_responses:\n",
        "    print(\"\\n--- Final Response ---\")\n",
        "    print(final_text_responses[0][\"content\"][\"parts\"][0][\"text\"])"
      ]
    },
    {
      "cell_type": "markdown",
      "metadata": {},
      "source": [
        "## Deploy to Agent Engine"
      ]
    },
    {
      "cell_type": "markdown",
      "metadata": {},
      "source": [
        "ref: https://github.com/google-cloud-japan/sa-ml-workshop/blob/main/blog/Agentic-workflow-AgentEngine-A2A.ipynb. \n",
        "\n",
        "Currently, deploying the root agent with RemoteA2aAgent as its subagents needs some workarounds to keep the root agent instance serializable.\n",
        "\n",
        "We define a wrapper class for ClientFactory and RemoteA2aAgent as below."
      ]
    },
    {
      "cell_type": "markdown",
      "metadata": {},
      "source": [
        "## Wrapper class"
      ]
    },
    {
      "cell_type": "code",
      "execution_count": null,
      "metadata": {},
      "outputs": [],
      "source": [
        "class MyClientFactory(ClientFactory):\n",
        "    def create(self, card, consumers=None, interceptors=None):\n",
        "        if not self._config.httpx_client:\n",
        "            self._config.httpx_client=httpx.AsyncClient(\n",
        "                timeout=60,\n",
        "                headers={'Content-Type': 'application/json'},\n",
        "                auth=GoogleAuthRefresh(scopes=['https://www.googleapis.com/auth/cloud-platform']) \n",
        "            )\n",
        "            self._register_defaults(self._config.supported_transports)\n",
        "        return super().create(card, consumers, interceptors)\n",
        "\n",
        "\n",
        "class MyRemoteA2aAgent(RemoteA2aAgent):\n",
        "    async def _ensure_httpx_client(self) -> httpx.AsyncClient:\n",
        "        if not self._httpx_client:\n",
        "            self._httpx_client=httpx.AsyncClient(\n",
        "                timeout=60,\n",
        "                headers={'Content-Type': 'application/json'},\n",
        "                auth=GoogleAuthRefresh(scopes=['https://www.googleapis.com/auth/cloud-platform']) \n",
        "            )\n",
        "        return self._httpx_client\n",
        "\n",
        "\n",
        "client_factory = MyClientFactory(\n",
        "    ClientConfig(\n",
        "        supported_transports=[TransportProtocol.http_json, TransportProtocol.jsonrpc],\n",
        "        use_client_preference=True,\n",
        "    )\n",
        ")"
      ]
    },
    {
      "cell_type": "code",
      "execution_count": null,
      "metadata": {},
      "outputs": [],
      "source": [
        "weather_agent_remoteA2a = MyRemoteA2aAgent(\n",
        "    name='weather_assistant',\n",
        "    description='''\n",
        "An agent that gathers the necessary information for weather information\n",
        "    ''',\n",
        "    agent_card=f'{WEA_AGENT_URL}/v1/card',\n",
        "    a2a_client_factory=client_factory,\n",
        ")"
      ]
    },
    {
      "cell_type": "code",
      "execution_count": null,
      "metadata": {},
      "outputs": [],
      "source": [
        "cocktail_agent_remoteA2a = MyRemoteA2aAgent(\n",
        "    name='cocktail_assistant',\n",
        "    description='''\n",
        "An agent that gathers the necessary information for cocktail information\n",
        "    ''',\n",
        "    agent_card=f'{CT_AGENT_URL}/v1/card',\n",
        "    a2a_client_factory=client_factory,\n",
        ")"
      ]
    },
    {
      "cell_type": "code",
      "execution_count": null,
      "metadata": {},
      "outputs": [],
      "source": [
        "root_agent = LlmAgent(\n",
        "            model=\"gemini-2.5-flash\",\n",
        "            name='host_agent',\n",
        "            instruction=root_instruction,\n",
        "            description=(\n",
        "                'This agent orchestrates the decomposition of the user request into'\n",
        "                ' tasks that can be performed by the child agents.'\n",
        "            ),\n",
        "            sub_agents=[\n",
        "                weather_agent_remoteA2a,\n",
        "                cocktail_agent_remoteA2a,\n",
        "            \n",
        "            ],\n",
        "        )"
      ]
    },
    {
      "cell_type": "code",
      "execution_count": null,
      "metadata": {},
      "outputs": [],
      "source": [
        "remote_agent = agent_engines.create(\n",
        "    agent_engine=root_agent,\n",
        "    display_name='A2A_ADK_Agent_on_Agent_Engine',\n",
        "    requirements=[\n",
        "        \"google-cloud-aiplatform[agent_engines,adk]>=1.112.0\",\n",
        "            \"a2a-sdk >= 0.3.4\",\n",
        "            \"pydantic==2.11.9\",\n",
        "            \"cloudpickle==3.1.1\",\n",
        "    ],\n",
        ")"
      ]
    },
    {
      "cell_type": "code",
      "execution_count": null,
      "metadata": {},
      "outputs": [],
      "source": [
        "print(\"Deployment finished!\")\n",
        "print(f\"Resource Name: {remote_agent.resource_name}\")\n",
        "# Resource Name: \"projects/{PROJECT_NUMBER}/locations/{LOCATION}/reasoningEngines/{RESOURCE_ID}\"\n",
        "#       Note: The PROJECT_NUMBER is different than the PROJECT_ID."
      ]
    },
    {
      "cell_type": "code",
      "execution_count": null,
      "metadata": {},
      "outputs": [],
      "source": [
        "from vertexai import agent_engines"
      ]
    },
    {
      "cell_type": "code",
      "execution_count": null,
      "metadata": {},
      "outputs": [],
      "source": [
        "AGENT_ENGINE_ID = os.getenv(\"AGENT_ENGINE_ID\")\n",
        "LOCATION = os.getenv('GOOGLE_CLOUD_LOCATION', 'us-central1')\n",
        "PROJECT_NUMBER = os.getenv(\"PROJECT_NUMBER\")\n",
        "\n",
        "resource_name = (\n",
        "    f\"projects/{PROJECT_NUMBER}/locations/us-central1/reasoningEngines/{AGENT_ENGINE_ID}\"\n",
        ")"
      ]
    },
    {
      "cell_type": "code",
      "execution_count": null,
      "metadata": {},
      "outputs": [],
      "source": [
        "# If you are in a new script or used the ADK CLI to deploy, you can connect like this:\n",
        "remote_agent = agent_engines.get(resource_name)\n",
        "remote_session = await remote_agent.async_create_session(user_id=\"u_456\")\n",
        "print(remote_session)"
      ]
    },
    {
      "cell_type": "code",
      "execution_count": null,
      "metadata": {},
      "outputs": [],
      "source": [
        "async for event in remote_agent.async_stream_query(\n",
        "    user_id=\"u_456\",\n",
        "    session_id=remote_session[\"id\"],\n",
        "    message=\"whats the weather in new york, ny\",\n",
        "):\n",
        "    print(event)\n",
        "    event[\"content\"]"
      ]
    },
    {
      "cell_type": "code",
      "execution_count": null,
      "metadata": {},
      "outputs": [],
      "source": []
    },
    {
      "cell_type": "code",
      "execution_count": null,
      "metadata": {},
      "outputs": [],
      "source": []
    },
    {
      "cell_type": "code",
      "execution_count": null,
      "metadata": {},
      "outputs": [],
      "source": []
    }
  ],
  "metadata": {
    "colab": {
      "name": "tutorial_a2a_on_agent_engine.ipynb",
      "toc_visible": true
    },
    "kernelspec": {
      "display_name": "hosting-agent",
      "language": "python",
      "name": "python3"
    },
    "language_info": {
      "codemirror_mode": {
        "name": "ipython",
        "version": 3
      },
      "file_extension": ".py",
      "mimetype": "text/x-python",
      "name": "python",
      "nbconvert_exporter": "python",
      "pygments_lexer": "ipython3",
      "version": "3.13.7"
    }
  },
  "nbformat": 4,
  "nbformat_minor": 0
}
